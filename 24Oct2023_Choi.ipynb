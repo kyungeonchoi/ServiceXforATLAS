{
 "cells": [
  {
   "cell_type": "markdown",
   "metadata": {},
   "source": [
    "<h1 style=\"font-size:4em;\">\n",
    "    ServiceX <span style=\"color:blue;\">intro</span> for ATLAS\n",
    "</h1>\n",
    "<br>\n",
    "<br>\n",
    "<br>\n",
    "<br>\n",
    "<br>\n",
    "<br>"
   ]
  },
  {
   "cell_type": "markdown",
   "metadata": {},
   "source": [
    "<img src=\"img/logo_ut.png\" width=\"220\"  style=\"float:right\" alt=\"UTAustin\">\n",
    "\n",
    "### KyungEon Choi (UT Austin)\n",
    "\n",
    "### Python/Columnar PHYSLITE Analysis Meeting | Oct 24, 2023\n",
    "\n"
   ]
  },
  {
   "cell_type": "markdown",
   "metadata": {},
   "source": [
    "<br>\n",
    "<br>\n",
    "<br>\n",
    "<br>\n",
    "<br>"
   ]
  },
  {
   "cell_type": "markdown",
   "metadata": {},
   "source": [
    "<h2>ServiceX</h2>\n",
    "<img src=\"img/logo_servicex.png\" width=\"120\" height=\"100\"  style=\"float:right\" alt=\"ServiceX\">\n",
    "<img src=\"img/logo_irishep.png\" width=\"150\" height=\"100\"  style=\"float:right\" alt=\"iris-hep\">\n",
    "<br>\n",
    "<font size=\"3\">\n",
    "    \n",
    "- ServiceX is a software R\\&D project of IRIS-HEP to investigate new computational models for HL-LHC era\n",
    "- ServiceX is a <b>data delivery service! and more...</b> \n",
    "    \n",
    "<!--     A service to <b><span style=\"color:red;\">quickly</span></b> access a \"fraction\" of large data on the grid  -->\n",
    "\n",
    "<br>\n",
    "<br>    \n",
    "<br>\n",
    "<br>\n",
    "Rucio is a popular data delivery service for analyzers to transfer/download PHYSLITE into Analysis Facility/local machine. The exact copy at the final destination.\n",
    "<img src=\"img/rucio1.png\" width=\"700\"  style=\"float:center\" alt=\"rucio\">\n",
    "\n",
    "or more often analyzers produce ROOT Ntuple (or RNTuple) from PHYS/PHYSLITE using analysis frameworks such as TopCPToolKit. Derived information + augmented information in ROOT Ntuple. Still the exact copy at the final destination.\n",
    "<img src=\"img/rucio3.png\" width=\"700\"  style=\"float:center\" alt=\"rucio\">\n",
    "    \n",
    "<br>\n",
    "<br>\n",
    "\n",
    "ServiceX is deployed at a Kubernetes cluster and located between data center and local storage. It delivers data but does something to delivery only necessary information!\n",
    "<img src=\"img/servicex1.png\" width=\"700\"  style=\"float:center\" alt=\"servicex\">\n",
    "    \n",
    "    \n",
    "</font>\n",
    "<br>\n",
    "<br>\n",
    "<br>\n",
    "<br>"
   ]
  },
  {
   "cell_type": "markdown",
   "metadata": {},
   "source": [
    "<h2> ServiceX under the hood </h2>\n",
    "<font size=\"3\">\n",
    "<br>\n",
    "A schematic of ServiceX includes key components (microservices).\n",
    "<img src=\"img/servicex_detail_rev2.png\" width=\"700\"  style=\"float:center\" alt=\"servicex2\">\n",
    "    \n",
    "<b>Dataset Finder</b>\n",
    "- Lookup input file list for transformers \n",
    "- Support Rucio datasets and XRootD paths\n",
    "    \n",
    "<b>Transformer</b>\n",
    "- The core of ServiceX\n",
    "- Extract and select information from input file and also possible to augment using available information\n",
    "- Code injected to transformer is generated from user query\n",
    "- Results can be streamed into different file formats\n",
    "- Spawn transformer pods on-demand and Horizontal Pod Autoscaling (HPA)\n",
    "- XCache layer in front of transformer to allow much faster access for popular datasets\n",
    "- Co-location of ServiceX and data center to allow a wide network bandwidth\n",
    "\n",
    "<b>Object store</b>\n",
    "- Results from each tranformer are written to ServiceX object store\n",
    "- Asynchronous delivery of files into local storage \n",
    "- or delivery of URIs (S3 paths) to consume result files later\n",
    "    \n",
    "<b>ServiceX App</b>\n",
    "- Requests via a REST interface - users communicate using ServiceX client library\n",
    "- Web dashboard for transformation status, access token, etc\n",
    "    \n",
    "</font>\n",
    "<br>\n",
    "<br>\n",
    "<br>\n",
    "<br>"
   ]
  },
  {
   "cell_type": "markdown",
   "metadata": {},
   "source": [
    "<h2> ServiceX for PHYSLITE (Today)</h2>\n",
    "<br>\n",
    "<font size=\"3\">\n",
    "\n",
    "- <b>xAOD transformer running <code>EventLoop</code></b>\n",
    "    - R22 C++ code generated from FuncADL query\n",
    "    - Capable of applying systematics\n",
    "- <b>Uproot transformer</b>\n",
    "    - Python code similar to Nicolai's coffea PHYSLITE schema*\n",
    "\n",
    "</font>    \n",
    "<p style=\"text-align:right\"><span>&#42;</span>Python code is not for production</p>\n",
    "<br>\n",
    "<br>\n",
    "<br>"
   ]
  },
  {
   "cell_type": "markdown",
   "metadata": {},
   "source": [
    "<h2>Talk to ServiceX</h2>\n",
    "<br>\n",
    "<font size=\"3\">\n",
    "\n",
    "- <b>ServiceX client library</b>\n",
    "    - Python package - <code>pip install servicex</code>\n",
    "    - Provides lots of features - submit ServiceX request, download/stream outputs, handling of access token, and <b>local cache</b>, etc\n",
    "    - New version (v3) is about to be released \n",
    "    - <code>servicex==2.7.0</code> in the following demo\n",
    "\n",
    "    <br>\n",
    "    \n",
    "- <b>ServiceX DataBinder</b>\n",
    "    - Python package - <code>pip install servicex-databinder</code>\n",
    "    - Wrapper pacakge of <code>servicex</code>\n",
    "    - Provides easy manipulations of ServiceX request<b>s</b> using a single configuration file\n",
    "    - <code>servicex-databinder==0.5.0</code> in the following demo\n",
    "    \n",
    "</font>    \n",
    "<!-- <br> -->\n"
   ]
  },
  {
   "cell_type": "markdown",
   "metadata": {},
   "source": [
    "<b>Input dataset</b>\n",
    "\n",
    "- <code>mc21_13p6TeV.601229.PhPy8EG_A14_ttbar_hdamp258p75_SingleLep.deriv.DAOD_PHYSLITE.e8453_s3873_r13829_p5855</code>\n",
    "- 583 files\n",
    "- 892GB\n",
    "\n",
    "<h3>xAOD transformer + ServiceX client library</h3>\n",
    "\n",
    "One more package needed to handle PHYSLITE: <code>func_adl_servicex_xaodr22</code>"
   ]
  },
  {
   "cell_type": "code",
   "execution_count": 1,
   "metadata": {},
   "outputs": [],
   "source": [
    "from servicex import ignore_cache\n",
    "from func_adl_servicex_xaodr22 import calib_tools, SXDSAtlasxAODR22"
   ]
  },
  {
   "cell_type": "code",
   "execution_count": 2,
   "metadata": {},
   "outputs": [],
   "source": [
    "ds = SXDSAtlasxAODR22(\n",
    "    'mc21_13p6TeV.601229.PhPy8EG_A14_ttbar_hdamp258p75_SingleLep.deriv.DAOD_PHYSLITE.e8453_s3873_r13829_p5855?files=20', \n",
    "    backend=\"servicex-testing1\"\n",
    ")\n",
    "ds = calib_tools.query_update(    \n",
    "    ds, calib_config=calib_tools.default_config(\"PHYSLITE\")\n",
    ")"
   ]
  },
  {
   "cell_type": "code",
   "execution_count": 3,
   "metadata": {},
   "outputs": [],
   "source": [
    "good_jets = ds.Select(\n",
    "    lambda e: {\n",
    "        \"run\": e.EventInfo(\"EventInfo\").runNumber(),\n",
    "        \"event\": e.EventInfo(\"EventInfo\").eventNumber(),\n",
    "        \"good_jets\": e.Jets().Where(lambda j: (j.pt() / 1000 > 25.0) and (abs(j.eta()) < 2.5)),\n",
    "    }\n",
    ")"
   ]
  },
  {
   "cell_type": "code",
   "execution_count": 4,
   "metadata": {},
   "outputs": [],
   "source": [
    "jet_pt = good_jets.Select(lambda e: {\n",
    "    \"run\": e.run,\n",
    "    \"event\": e.event,\n",
    "    \"pt\": e.good_jets.Select(lambda ele: ele.pt() / 1000.0),\n",
    "}).AsAwkwardArray()"
   ]
  },
  {
   "cell_type": "code",
   "execution_count": 6,
   "metadata": {},
   "outputs": [
    {
     "data": {
      "application/vnd.jupyter.widget-view+json": {
       "model_id": "",
       "version_major": 2,
       "version_minor": 0
      },
      "text/plain": [
       "mc21_13p6TeV.601229....:   0%|                                                                                …"
      ]
     },
     "metadata": {},
     "output_type": "display_data"
    },
    {
     "data": {
      "application/vnd.jupyter.widget-view+json": {
       "model_id": "",
       "version_major": 2,
       "version_minor": 0
      },
      "text/plain": [
       "        mc21_13p6TeV.601229.... Downloaded:   0%|                                                             …"
      ]
     },
     "metadata": {},
     "output_type": "display_data"
    }
   ],
   "source": [
    "with ignore_cache():\n",
    "    jet_data = jet_pt.value()"
   ]
  },
  {
   "cell_type": "code",
   "execution_count": 6,
   "metadata": {},
   "outputs": [
    {
     "data": {
      "text/plain": [
       "<Array [{run: 450000, event: 176330189, ... ] type='1560000 * {\"run\": uint32, \"e...'>"
      ]
     },
     "execution_count": 6,
     "metadata": {},
     "output_type": "execute_result"
    }
   ],
   "source": [
    "jet_data.columns"
   ]
  },
  {
   "cell_type": "markdown",
   "metadata": {},
   "source": [
    "<h3>Uproot transformer + ServiceX DataBinder </h3>"
   ]
  },
  {
   "cell_type": "code",
   "execution_count": 1,
   "metadata": {},
   "outputs": [
    {
     "name": "stdout",
     "output_type": "stream",
     "text": [
      "Overwriting config_physlite.yaml\n"
     ]
    }
   ],
   "source": [
    "%%writefile config_physlite.yaml\n",
    "General:\n",
    "  ServiceXName: servicex-testing1\n",
    "  Transformer: python\n",
    "  OutputFormat: root\n",
    "  IgnoreServiceXCache: True\n",
    "\n",
    "Sample: \n",
    "  - Name: ttbar_PHYSLITE\n",
    "    RucioDID: mc21_13p6TeV:mc21_13p6TeV.601229.PhPy8EG_A14_ttbar_hdamp258p75_SingleLep.deriv.DAOD_PHYSLITE.e8453_s3873_r13829_p5855\n",
    "    Function: DEF_function_physlite\n",
    "  - Name: \n",
    "    RucioDID: user.kchoi:user.kchoi.fcnc_tHq_ML.ttH.v11\n",
    "    Filter: met_met > 100e3\n",
    "    Columns: el_pt, el_eta, el_phi, el_e, el_charge\n",
    "\n",
    "Definition:\n",
    "  DEF_function_physlite: |\n",
    "    def run_query(input_filenames=None):\n",
    "      import uproot\n",
    "      import awkward as ak\n",
    "      schema = {\n",
    "        \"Electrons\": [\"pt\", \"eta\", \"phi\", \"m\"],\n",
    "        \"Muons\": [\"pt\", \"eta\", \"phi\"],\n",
    "        \"Jets\": [\"pt\", \"eta\", \"phi\", \"m\"],\n",
    "        \"BTagging_AntiKt4EMPFlow\": [\"DL1dv01_pb\"]\n",
    "      }\n",
    "      with uproot.open(f\"{input_filenames}:CollectionTree\") as o:\n",
    "        evts = {}\n",
    "        for objname, fields in schema.items():\n",
    "          base = objname\n",
    "          if objname in [\"Electrons\", \"Muons\", \"Jets\"]:\n",
    "            base = \"Analysis\" + objname\n",
    "          arrays = o.arrays(fields, aliases={field: f\"{base}AuxDyn.{field}\" for field in fields})\n",
    "          arrays = ak.zip(dict(zip(arrays.fields, ak.unzip(arrays))))\n",
    "          evts[objname] = arrays\n",
    "        events = ak.zip(evts, depth_limit=1)\n",
    "        events = events[ak.num(events.Jets) > 8]\n",
    "      return {\"CollectionTree\": events}\n"
   ]
  },
  {
   "cell_type": "code",
   "execution_count": 2,
   "metadata": {},
   "outputs": [],
   "source": [
    "from servicex_databinder import DataBinder"
   ]
  },
  {
   "cell_type": "code",
   "execution_count": 3,
   "metadata": {},
   "outputs": [
    {
     "name": "stderr",
     "output_type": "stream",
     "text": [
      "INFO - Loading DataBinder config file: config_physlite.yaml\n",
      "INFO -   1 Samples and 1 ServiceX requests\n",
      "INFO - Deliver via ServiceX endpoint: https://servicex-release-testing-1.servicex.ssl-hep.org/\n"
     ]
    },
    {
     "data": {
      "application/vnd.jupyter.widget-view+json": {
       "model_id": "",
       "version_major": 2,
       "version_minor": 0
      },
      "text/plain": [
       "ttbar_PHYSLITE:   0%|                                                                                         …"
      ]
     },
     "metadata": {},
     "output_type": "display_data"
    },
    {
     "data": {
      "application/vnd.jupyter.widget-view+json": {
       "model_id": "e52c14579a3a46dcbf9a8a9be033b048",
       "version_major": 2,
       "version_minor": 0
      },
      "text/plain": [
       "        ttbar_PHYSLITE Downloaded:   0%|                                                                      …"
      ]
     },
     "metadata": {},
     "output_type": "display_data"
    },
    {
     "ename": "KeyboardInterrupt",
     "evalue": "",
     "output_type": "error",
     "traceback": [
      "\u001b[0;31m---------------------------------------------------------------------------\u001b[0m",
      "\u001b[0;31mKeyboardInterrupt\u001b[0m                         Traceback (most recent call last)",
      "\u001b[0;32m/var/folders/70/qvv1yqhj41l4hcfl88x593dw0000gn/T/ipykernel_64343/2441397180.py\u001b[0m in \u001b[0;36m<module>\u001b[0;34m\u001b[0m\n\u001b[1;32m      1\u001b[0m \u001b[0msx_db\u001b[0m \u001b[0;34m=\u001b[0m \u001b[0mDataBinder\u001b[0m\u001b[0;34m(\u001b[0m\u001b[0;34m'config_physlite.yaml'\u001b[0m\u001b[0;34m)\u001b[0m\u001b[0;34m\u001b[0m\u001b[0;34m\u001b[0m\u001b[0m\n\u001b[0;32m----> 2\u001b[0;31m \u001b[0mout\u001b[0m \u001b[0;34m=\u001b[0m \u001b[0msx_db\u001b[0m\u001b[0;34m.\u001b[0m\u001b[0mdeliver\u001b[0m\u001b[0;34m(\u001b[0m\u001b[0;34m)\u001b[0m\u001b[0;34m\u001b[0m\u001b[0;34m\u001b[0m\u001b[0m\n\u001b[0m",
      "\u001b[0;32m~/opt/anaconda3/lib/python3.9/site-packages/servicex_databinder/servicex_databinder.py\u001b[0m in \u001b[0;36mdeliver\u001b[0;34m(self, overall_progress_only)\u001b[0m\n\u001b[1;32m     28\u001b[0m     \u001b[0;32mdef\u001b[0m \u001b[0mdeliver\u001b[0m\u001b[0;34m(\u001b[0m\u001b[0mself\u001b[0m\u001b[0;34m,\u001b[0m \u001b[0moverall_progress_only\u001b[0m\u001b[0;34m:\u001b[0m \u001b[0mbool\u001b[0m \u001b[0;34m=\u001b[0m \u001b[0;32mFalse\u001b[0m\u001b[0;34m)\u001b[0m \u001b[0;34m->\u001b[0m \u001b[0mDict\u001b[0m\u001b[0;34m:\u001b[0m\u001b[0;34m\u001b[0m\u001b[0;34m\u001b[0m\u001b[0m\n\u001b[1;32m     29\u001b[0m \u001b[0;34m\u001b[0m\u001b[0m\n\u001b[0;32m---> 30\u001b[0;31m         out_paths_dict = asyncio.run(\n\u001b[0m\u001b[1;32m     31\u001b[0m                 \u001b[0mself\u001b[0m\u001b[0;34m.\u001b[0m\u001b[0m_sx_db\u001b[0m\u001b[0;34m.\u001b[0m\u001b[0mget_data\u001b[0m\u001b[0;34m(\u001b[0m\u001b[0moverall_progress_only\u001b[0m\u001b[0;34m)\u001b[0m\u001b[0;34m\u001b[0m\u001b[0;34m\u001b[0m\u001b[0m\n\u001b[1;32m     32\u001b[0m             )\n",
      "\u001b[0;32m~/opt/anaconda3/lib/python3.9/site-packages/nest_asyncio.py\u001b[0m in \u001b[0;36mrun\u001b[0;34m(main, debug)\u001b[0m\n\u001b[1;32m     33\u001b[0m         \u001b[0mtask\u001b[0m \u001b[0;34m=\u001b[0m \u001b[0masyncio\u001b[0m\u001b[0;34m.\u001b[0m\u001b[0mensure_future\u001b[0m\u001b[0;34m(\u001b[0m\u001b[0mmain\u001b[0m\u001b[0;34m)\u001b[0m\u001b[0;34m\u001b[0m\u001b[0;34m\u001b[0m\u001b[0m\n\u001b[1;32m     34\u001b[0m         \u001b[0;32mtry\u001b[0m\u001b[0;34m:\u001b[0m\u001b[0;34m\u001b[0m\u001b[0;34m\u001b[0m\u001b[0m\n\u001b[0;32m---> 35\u001b[0;31m             \u001b[0;32mreturn\u001b[0m \u001b[0mloop\u001b[0m\u001b[0;34m.\u001b[0m\u001b[0mrun_until_complete\u001b[0m\u001b[0;34m(\u001b[0m\u001b[0mtask\u001b[0m\u001b[0;34m)\u001b[0m\u001b[0;34m\u001b[0m\u001b[0;34m\u001b[0m\u001b[0m\n\u001b[0m\u001b[1;32m     36\u001b[0m         \u001b[0;32mfinally\u001b[0m\u001b[0;34m:\u001b[0m\u001b[0;34m\u001b[0m\u001b[0;34m\u001b[0m\u001b[0m\n\u001b[1;32m     37\u001b[0m             \u001b[0;32mif\u001b[0m \u001b[0;32mnot\u001b[0m \u001b[0mtask\u001b[0m\u001b[0;34m.\u001b[0m\u001b[0mdone\u001b[0m\u001b[0;34m(\u001b[0m\u001b[0;34m)\u001b[0m\u001b[0;34m:\u001b[0m\u001b[0;34m\u001b[0m\u001b[0;34m\u001b[0m\u001b[0m\n",
      "\u001b[0;32m~/opt/anaconda3/lib/python3.9/site-packages/nest_asyncio.py\u001b[0m in \u001b[0;36mrun_until_complete\u001b[0;34m(self, future)\u001b[0m\n\u001b[1;32m     82\u001b[0m                 \u001b[0mf\u001b[0m\u001b[0;34m.\u001b[0m\u001b[0m_log_destroy_pending\u001b[0m \u001b[0;34m=\u001b[0m \u001b[0;32mFalse\u001b[0m\u001b[0;34m\u001b[0m\u001b[0;34m\u001b[0m\u001b[0m\n\u001b[1;32m     83\u001b[0m             \u001b[0;32mwhile\u001b[0m \u001b[0;32mnot\u001b[0m \u001b[0mf\u001b[0m\u001b[0;34m.\u001b[0m\u001b[0mdone\u001b[0m\u001b[0;34m(\u001b[0m\u001b[0;34m)\u001b[0m\u001b[0;34m:\u001b[0m\u001b[0;34m\u001b[0m\u001b[0;34m\u001b[0m\u001b[0m\n\u001b[0;32m---> 84\u001b[0;31m                 \u001b[0mself\u001b[0m\u001b[0;34m.\u001b[0m\u001b[0m_run_once\u001b[0m\u001b[0;34m(\u001b[0m\u001b[0;34m)\u001b[0m\u001b[0;34m\u001b[0m\u001b[0;34m\u001b[0m\u001b[0m\n\u001b[0m\u001b[1;32m     85\u001b[0m                 \u001b[0;32mif\u001b[0m \u001b[0mself\u001b[0m\u001b[0;34m.\u001b[0m\u001b[0m_stopping\u001b[0m\u001b[0;34m:\u001b[0m\u001b[0;34m\u001b[0m\u001b[0;34m\u001b[0m\u001b[0m\n\u001b[1;32m     86\u001b[0m                     \u001b[0;32mbreak\u001b[0m\u001b[0;34m\u001b[0m\u001b[0;34m\u001b[0m\u001b[0m\n",
      "\u001b[0;32m~/opt/anaconda3/lib/python3.9/site-packages/nest_asyncio.py\u001b[0m in \u001b[0;36m_run_once\u001b[0;34m(self)\u001b[0m\n\u001b[1;32m    105\u001b[0m                 scheduled[0]._when - self.time(), 0), 86400) if scheduled\n\u001b[1;32m    106\u001b[0m             else None)\n\u001b[0;32m--> 107\u001b[0;31m         \u001b[0mevent_list\u001b[0m \u001b[0;34m=\u001b[0m \u001b[0mself\u001b[0m\u001b[0;34m.\u001b[0m\u001b[0m_selector\u001b[0m\u001b[0;34m.\u001b[0m\u001b[0mselect\u001b[0m\u001b[0;34m(\u001b[0m\u001b[0mtimeout\u001b[0m\u001b[0;34m)\u001b[0m\u001b[0;34m\u001b[0m\u001b[0;34m\u001b[0m\u001b[0m\n\u001b[0m\u001b[1;32m    108\u001b[0m         \u001b[0mself\u001b[0m\u001b[0;34m.\u001b[0m\u001b[0m_process_events\u001b[0m\u001b[0;34m(\u001b[0m\u001b[0mevent_list\u001b[0m\u001b[0;34m)\u001b[0m\u001b[0;34m\u001b[0m\u001b[0;34m\u001b[0m\u001b[0m\n\u001b[1;32m    109\u001b[0m \u001b[0;34m\u001b[0m\u001b[0m\n",
      "\u001b[0;32m~/opt/anaconda3/lib/python3.9/selectors.py\u001b[0m in \u001b[0;36mselect\u001b[0;34m(self, timeout)\u001b[0m\n\u001b[1;32m    560\u001b[0m             \u001b[0mready\u001b[0m \u001b[0;34m=\u001b[0m \u001b[0;34m[\u001b[0m\u001b[0;34m]\u001b[0m\u001b[0;34m\u001b[0m\u001b[0;34m\u001b[0m\u001b[0m\n\u001b[1;32m    561\u001b[0m             \u001b[0;32mtry\u001b[0m\u001b[0;34m:\u001b[0m\u001b[0;34m\u001b[0m\u001b[0;34m\u001b[0m\u001b[0m\n\u001b[0;32m--> 562\u001b[0;31m                 \u001b[0mkev_list\u001b[0m \u001b[0;34m=\u001b[0m \u001b[0mself\u001b[0m\u001b[0;34m.\u001b[0m\u001b[0m_selector\u001b[0m\u001b[0;34m.\u001b[0m\u001b[0mcontrol\u001b[0m\u001b[0;34m(\u001b[0m\u001b[0;32mNone\u001b[0m\u001b[0;34m,\u001b[0m \u001b[0mmax_ev\u001b[0m\u001b[0;34m,\u001b[0m \u001b[0mtimeout\u001b[0m\u001b[0;34m)\u001b[0m\u001b[0;34m\u001b[0m\u001b[0;34m\u001b[0m\u001b[0m\n\u001b[0m\u001b[1;32m    563\u001b[0m             \u001b[0;32mexcept\u001b[0m \u001b[0mInterruptedError\u001b[0m\u001b[0;34m:\u001b[0m\u001b[0;34m\u001b[0m\u001b[0;34m\u001b[0m\u001b[0m\n\u001b[1;32m    564\u001b[0m                 \u001b[0;32mreturn\u001b[0m \u001b[0mready\u001b[0m\u001b[0;34m\u001b[0m\u001b[0;34m\u001b[0m\u001b[0m\n",
      "\u001b[0;31mKeyboardInterrupt\u001b[0m: "
     ]
    }
   ],
   "source": [
    "sx_db = DataBinder('config_physlite.yaml')\n",
    "out = sx_db.deliver()"
   ]
  },
  {
   "cell_type": "code",
   "execution_count": null,
   "metadata": {},
   "outputs": [],
   "source": []
  },
  {
   "cell_type": "code",
   "execution_count": null,
   "metadata": {},
   "outputs": [],
   "source": []
  },
  {
   "cell_type": "code",
   "execution_count": null,
   "metadata": {},
   "outputs": [],
   "source": []
  }
 ],
 "metadata": {
  "kernelspec": {
   "display_name": "Python 3 (ipykernel)",
   "language": "python",
   "name": "python3"
  },
  "language_info": {
   "codemirror_mode": {
    "name": "ipython",
    "version": 3
   },
   "file_extension": ".py",
   "mimetype": "text/x-python",
   "name": "python",
   "nbconvert_exporter": "python",
   "pygments_lexer": "ipython3",
   "version": "3.9.12"
  }
 },
 "nbformat": 4,
 "nbformat_minor": 2
}
