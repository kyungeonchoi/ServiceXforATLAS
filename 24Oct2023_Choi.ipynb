{
 "cells": [
  {
   "cell_type": "markdown",
   "metadata": {},
   "source": [
    "<h1 style=\"font-size:4em;\">\n",
    "    ServiceX <span style=\"color:blue;\">intro</span> for ATLAS\n",
    "</h1>\n",
    "<br>\n",
    "<br>\n",
    "<br>\n",
    "<br>\n",
    "<br>\n",
    "<br>"
   ]
  },
  {
   "cell_type": "markdown",
   "metadata": {},
   "source": [
    "<img src=\"img/logo_ut.png\" width=\"220\"  style=\"float:right\" alt=\"UTAustin\">\n",
    "\n",
    "### KyungEon Choi (UT Austin)\n",
    "\n",
    "### Python/Columnar PHYSLITE Analysis Meeting | Oct 24, 2023\n",
    "\n"
   ]
  },
  {
   "cell_type": "markdown",
   "metadata": {},
   "source": [
    "<br>\n",
    "<br>\n",
    "<br>\n",
    "<br>\n",
    "<br>"
   ]
  },
  {
   "cell_type": "markdown",
   "metadata": {},
   "source": [
    "<h2>ServiceX</h2>\n",
    "<img src=\"img/logo_servicex.png\" width=\"120\" height=\"100\"  style=\"float:right\" alt=\"ServiceX\">\n",
    "<img src=\"img/logo_irishep.png\" width=\"150\" height=\"100\"  style=\"float:right\" alt=\"iris-hep\">\n",
    "<br>\n",
    "<font size=\"3\">\n",
    "    \n",
    "- ServiceX is a software R\\&D project of IRIS-HEP to investigate new computational models for HL-LHC era\n",
    "- ServiceX is a <b>data delivery service! and more...</b> \n",
    "    \n",
    "<!--     A service to <b><span style=\"color:red;\">quickly</span></b> access a \"fraction\" of large data on the grid  -->\n",
    "\n",
    "<br>\n",
    "<br>    \n",
    "<br>\n",
    "<br>\n",
    "Rucio is a popular data delivery service for analyzers to transfer/download PHYSLITE into Analysis Facility/local machine. The exact copy at the final destination.\n",
    "<img src=\"img/rucio1.png\" width=\"700\"  style=\"float:center\" alt=\"rucio\">\n",
    "\n",
    "or more often analyzers produce ROOT Ntuple (or RNTuple) from PHYS/PHYSLITE using analysis frameworks such as TopCPToolKit. Derived information + augmented information in ROOT Ntuple. Still the exact copy at the final destination.\n",
    "<img src=\"img/rucio3.png\" width=\"700\"  style=\"float:center\" alt=\"rucio\">\n",
    "    \n",
    "<br>\n",
    "<br>\n",
    "\n",
    "ServiceX is deployed at a Kubernetes cluster and located between data center and local storage. It delivers data but does something to delivery only necessary information!\n",
    "<img src=\"img/servicex1.png\" width=\"700\"  style=\"float:center\" alt=\"servicex\">\n",
    "    \n",
    "    \n",
    "</font>\n",
    "<br>\n",
    "<br>\n",
    "<br>\n",
    "<br>"
   ]
  },
  {
   "cell_type": "markdown",
   "metadata": {},
   "source": [
    "<h2> ServiceX under the hood </h2>\n",
    "<font size=\"3\">\n",
    "<br>\n",
    "A schematic of ServiceX includes key components (microservices).\n",
    "<img src=\"img/servicex_detail_rev2.png\" width=\"700\"  style=\"float:center\" alt=\"servicex2\">\n",
    "    \n",
    "<b>Dataset Finder</b>\n",
    "- Lookup input file list for transformers \n",
    "- Support Rucio datasets and XRootD paths\n",
    "    \n",
    "<b>Transformer</b>\n",
    "- The core of ServiceX\n",
    "- Extract and select information from input file and also possible to augment using available information\n",
    "- Code injected to transformer is generated from user query\n",
    "- Results can be streamed into different file formats\n",
    "- Spawn transformer pods on-demand and Horizontal Pod Autoscaling (HPA)\n",
    "- XCache layer in front of transformer to allow much faster access for popular datasets\n",
    "- Co-location of ServiceX and data center to allow a wide network bandwidth\n",
    "\n",
    "<b>Object store</b>\n",
    "- Results from each tranformer are written to ServiceX object store\n",
    "- Asynchronous delivery of files into local storage \n",
    "- or delivery of URIs (S3 paths) to consume result files later\n",
    "    \n",
    "<b>ServiceX App</b>\n",
    "- Requests via a REST interface - users communicate using ServiceX client library\n",
    "- Web dashboard for transformation status, access token, etc\n",
    "    \n",
    "</font>\n",
    "<br>\n",
    "<br>\n",
    "<br>\n",
    "<br>"
   ]
  },
  {
   "cell_type": "markdown",
   "metadata": {},
   "source": [
    "<h2> ServiceX for PHYSLITE (Today)</h2>\n",
    "<br>\n",
    "<font size=\"3\">\n",
    "\n",
    "- <b>xAOD transformer running <code>EventLoop</code></b>\n",
    "    - R22 C++ code generated from FuncADL query\n",
    "    - Capable of applying systematics\n",
    "- <b>Uproot transformer</b>\n",
    "    - Python code similar to Nicolai's coffea PHYSLITE schema*\n",
    "\n",
    "</font>    \n",
    "<p style=\"text-align:right\"><span>&#42;</span>Python code is not for production</p>\n",
    "<br>\n",
    "<br>\n",
    "<br>"
   ]
  },
  {
   "cell_type": "markdown",
   "metadata": {},
   "source": [
    "<h2>Talk to ServiceX</h2>\n",
    "<br>\n",
    "<font size=\"3\">\n",
    "\n",
    "- <b>ServiceX client library</b>\n",
    "    - Python package - <code>pip install servicex</code>\n",
    "    - Provides lots of features - submit ServiceX request, download/stream outputs, handling of access token, and <b>local cache</b>, etc\n",
    "    - New version (v3) is about to be released \n",
    "    - <code>servicex==2.7.0</code> in the following demo\n",
    "\n",
    "    <br>\n",
    "    \n",
    "- <b>ServiceX DataBinder</b>\n",
    "    - Python package - <code>pip install servicex-databinder</code>\n",
    "    - Wrapper pacakge of <code>servicex</code>\n",
    "    - Provides easy manipulations of ServiceX request<b>s</b> using a single configuration file\n",
    "    - <code>servicex-databinder==0.5.0</code> in the following demo\n",
    "    \n",
    "</font>    \n",
    "<!-- <br> -->\n"
   ]
  },
  {
   "cell_type": "markdown",
   "metadata": {},
   "source": [
    "<b>Input dataset</b>\n",
    "\n",
    "- <code>mc21_13p6TeV.601229.PhPy8EG_A14_ttbar_hdamp258p75_SingleLep.deriv.DAOD_PHYSLITE.e8453_s3873_r13829_p5855</code>\n",
    "- 583 files\n",
    "- 892GB\n",
    "\n",
    "<h3>xAOD transformer + ServiceX client library</h3>\n",
    "\n",
    "- One more package needed to handle PHYSLITE: <code>func_adl_servicex_xaodr22</code>\n",
    "- Running 20 files"
   ]
  },
  {
   "cell_type": "code",
   "execution_count": null,
   "metadata": {},
   "outputs": [],
   "source": [
    "from servicex import ignore_cache\n",
    "from func_adl_servicex_xaodr22 import calib_tools, SXDSAtlasxAODR22"
   ]
  },
  {
   "cell_type": "code",
   "execution_count": null,
   "metadata": {},
   "outputs": [],
   "source": [
    "ds = SXDSAtlasxAODR22(\n",
    "    'mc21_13p6TeV.601229.PhPy8EG_A14_ttbar_hdamp258p75_SingleLep.deriv.DAOD_PHYSLITE.e8453_s3873_r13829_p5855?files=20', \n",
    "    backend=\"servicex-testing1\"\n",
    ")\n",
    "ds = calib_tools.query_update(    \n",
    "    ds, calib_config=calib_tools.default_config(\"PHYSLITE\")\n",
    ")"
   ]
  },
  {
   "cell_type": "code",
   "execution_count": null,
   "metadata": {},
   "outputs": [],
   "source": [
    "good_jets = ds.Select(\n",
    "    lambda e: {\n",
    "        \"run\": e.EventInfo(\"EventInfo\").runNumber(),\n",
    "        \"event\": e.EventInfo(\"EventInfo\").eventNumber(),\n",
    "        \"good_jets\": e.Jets().Where(lambda j: (j.pt() / 1000 > 25.0) and (abs(j.eta()) < 2.5)),\n",
    "    }\n",
    ")"
   ]
  },
  {
   "cell_type": "code",
   "execution_count": null,
   "metadata": {},
   "outputs": [],
   "source": [
    "jet_pt = good_jets.Select(lambda e: {\n",
    "    \"run\": e.run,\n",
    "    \"event\": e.event,\n",
    "    \"pt\": e.good_jets.Select(lambda ele: ele.pt() / 1000.0),\n",
    "}).AsAwkwardArray()"
   ]
  },
  {
   "cell_type": "code",
   "execution_count": null,
   "metadata": {},
   "outputs": [],
   "source": [
    "with ignore_cache():\n",
    "    jet_data = jet_pt.value()"
   ]
  },
  {
   "cell_type": "code",
   "execution_count": null,
   "metadata": {},
   "outputs": [],
   "source": [
    "print(jet_data.fields)\n",
    "print(jet_data.pt)\n",
    "print(len(jet_data))"
   ]
  },
  {
   "cell_type": "markdown",
   "metadata": {},
   "source": [
    "<img src=\"img/servicex_demo_rev1.png\" width=\"800\"  style=\"float:center\" alt=\"servicex3\">"
   ]
  },
  {
   "cell_type": "markdown",
   "metadata": {},
   "source": [
    "<h3>Uproot transformer + ServiceX DataBinder </h3>"
   ]
  },
  {
   "cell_type": "code",
   "execution_count": null,
   "metadata": {},
   "outputs": [],
   "source": [
    "%%writefile config_physlite.yaml\n",
    "General:\n",
    "  ServiceXName: servicex-testing1\n",
    "  Transformer: python\n",
    "  OutputFormat: root\n",
    "  IgnoreServiceXCache: True\n",
    "\n",
    "Sample: \n",
    "  - Name: ttbar_PHYSLITE\n",
    "    RucioDID: mc21_13p6TeV:mc21_13p6TeV.601229.PhPy8EG_A14_ttbar_hdamp258p75_SingleLep.deriv.DAOD_PHYSLITE.e8453_s3873_r13829_p5855\n",
    "    Function: DEF_function_physlite\n",
    "  - Name: ttH\n",
    "    Transformer: uproot\n",
    "    RucioDID: user.kchoi:user.kchoi.fcnc_tHq_ML.ttH.v11\n",
    "    Tree: nominal\n",
    "    Filter: met_met > 100e3\n",
    "    Columns: el_pt, el_eta, el_phi, el_e, el_charge\n",
    "\n",
    "Definition:\n",
    "  DEF_function_physlite: |\n",
    "    def run_query(input_filenames=None):\n",
    "      import uproot\n",
    "      import awkward as ak\n",
    "      schema = {\n",
    "        \"Electrons\": [\"pt\", \"eta\", \"phi\", \"m\"],\n",
    "        \"Muons\": [\"pt\", \"eta\", \"phi\"],\n",
    "        \"Jets\": [\"pt\", \"eta\", \"phi\", \"m\"],\n",
    "        \"BTagging_AntiKt4EMPFlow\": [\"DL1dv01_pb\"]\n",
    "      }\n",
    "      with uproot.open(f\"{input_filenames}:CollectionTree\") as o:\n",
    "        evts = {}\n",
    "        for objname, fields in schema.items():\n",
    "          base = objname\n",
    "          if objname in [\"Electrons\", \"Muons\", \"Jets\"]:\n",
    "            base = \"Analysis\" + objname\n",
    "          arrays = o.arrays(fields, aliases={field: f\"{base}AuxDyn.{field}\" for field in fields})\n",
    "          arrays = ak.zip(dict(zip(arrays.fields, ak.unzip(arrays))))\n",
    "          evts[objname] = arrays\n",
    "        events = ak.zip(evts, depth_limit=1)\n",
    "        events = events[ak.all(events.Electrons.pt > 100e3, axis=1)]\n",
    "      return {\"CollectionTree\": events}\n"
   ]
  },
  {
   "cell_type": "code",
   "execution_count": null,
   "metadata": {},
   "outputs": [],
   "source": [
    "from servicex_databinder import DataBinder"
   ]
  },
  {
   "cell_type": "code",
   "execution_count": null,
   "metadata": {},
   "outputs": [],
   "source": [
    "sx_db = DataBinder('config_physlite.yaml')\n",
    "out = sx_db.deliver()"
   ]
  },
  {
   "cell_type": "markdown",
   "metadata": {},
   "source": [
    "<img src=\"img/servicex_demo2.png\" width=\"800\"  style=\"float:center\" alt=\"servicex4\">"
   ]
  },
  {
   "cell_type": "markdown",
   "metadata": {},
   "source": [
    "<h1> Outlook </h1>"
   ]
  },
  {
   "cell_type": "markdown",
   "metadata": {},
   "source": [
    "<img src=\"img/servicex_future1.png\" width=\"800\"  style=\"float:center\" alt=\"servicex5\">"
   ]
  },
  {
   "cell_type": "markdown",
   "metadata": {},
   "source": [
    "<img src=\"img/servicex_future2.png\" width=\"800\"  style=\"float:center\" alt=\"servicex6\">"
   ]
  },
  {
   "cell_type": "code",
   "execution_count": null,
   "metadata": {},
   "outputs": [],
   "source": []
  }
 ],
 "metadata": {
  "kernelspec": {
   "display_name": "Python 3 (ipykernel)",
   "language": "python",
   "name": "python3"
  },
  "language_info": {
   "codemirror_mode": {
    "name": "ipython",
    "version": 3
   },
   "file_extension": ".py",
   "mimetype": "text/x-python",
   "name": "python",
   "nbconvert_exporter": "python",
   "pygments_lexer": "ipython3",
   "version": "3.9.12"
  }
 },
 "nbformat": 4,
 "nbformat_minor": 2
}
